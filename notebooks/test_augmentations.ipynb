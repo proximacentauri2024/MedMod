{
 "cells": [
  {
   "cell_type": "code",
   "execution_count": 2,
   "id": "1ba07234-723b-461f-8e6b-f28425328eb6",
   "metadata": {},
   "outputs": [
    {
     "name": "stdout",
     "output_type": "stream",
     "text": [
      "[[[0.98373511 0.31514595 0.13016714 ... 0.10752305 0.54219303 0.57591221]\n",
      "  [0.52117864 0.0361533  0.49902663 ... 0.53273913 0.35918354 0.2535231 ]\n",
      "  [0.72055459 0.62445621 0.15731397 ... 0.20032697 0.88436469 0.75762683]\n",
      "  ...\n",
      "  [0.97987371 0.41895427 0.28907045 ... 0.48231164 0.61012879 0.53321011]\n",
      "  [0.36448691 0.34937776 0.23026127 ... 0.74002013 0.64681448 0.58663534]\n",
      "  [0.84478555 0.0079708  0.15277623 ... 0.60701803 0.74931947 0.72910822]]\n",
      "\n",
      " [[0.65590634 0.38712771 0.84674326 ... 0.93136666 0.98796896 0.08858608]\n",
      "  [0.9161026  0.01879259 0.88627579 ... 0.21315664 0.4869541  0.34398769]\n",
      "  [0.4469226  0.95749072 0.87398558 ... 0.43176709 0.70712627 0.97435327]\n",
      "  ...\n",
      "  [0.16787567 0.36548324 0.06444975 ... 0.02233911 0.49225134 0.30334089]\n",
      "  [0.22549435 0.80218775 0.77640984 ... 0.05289779 0.03155595 0.83327268]\n",
      "  [0.62589609 0.70761597 0.80243703 ... 0.63072483 0.22393001 0.35493249]]\n",
      "\n",
      " [[0.39199594 0.94519004 0.40528876 ... 0.51594962 0.3226206  0.60497774]\n",
      "  [0.69029764 0.65360732 0.64475808 ... 0.12244249 0.28696626 0.66088274]\n",
      "  [0.37130252 0.42952704 0.46700344 ... 0.73124594 0.18573687 0.81471661]\n",
      "  ...\n",
      "  [0.3520169  0.43710235 0.24268354 ... 0.09277681 0.66497151 0.16922352]\n",
      "  [0.80787854 0.98070243 0.09837465 ... 0.8959883  0.8579603  0.34070387]\n",
      "  [0.58697277 0.64116151 0.67208166 ... 0.8329831  0.4964983  0.98026177]]\n",
      "\n",
      " [[0.9847025  0.68632254 0.82009723 ... 0.09557541 0.72846054 0.38440353]\n",
      "  [0.25923942 0.7227338  0.92047368 ... 0.15040626 0.36457323 0.55869375]\n",
      "  [0.18412412 0.19180204 0.18859455 ... 0.7760709  0.60421589 0.69946596]\n",
      "  ...\n",
      "  [0.81264828 0.94026772 0.60544694 ... 0.67760607 0.37060298 0.52670709]\n",
      "  [0.37369433 0.3696807  0.09092696 ... 0.7488409  0.22042431 0.85255837]\n",
      "  [0.21597689 0.26687216 0.25330191 ... 0.88702021 0.44610231 0.11434051]]\n",
      "\n",
      " [[0.66119038 0.62515554 0.83762997 ... 0.7344113  0.75376563 0.16766947]\n",
      "  [0.92679421 0.14841138 0.80789075 ... 0.36163455 0.5170594  0.59606188]\n",
      "  [0.7058506  0.67750348 0.84879514 ... 0.97335234 0.12465353 0.85779175]\n",
      "  ...\n",
      "  [0.49138919 0.20280389 0.28814628 ... 0.02065583 0.3883018  0.9298614 ]\n",
      "  [0.39940641 0.78438477 0.62287196 ... 0.07179033 0.13471987 0.0861326 ]\n",
      "  [0.70696072 0.08982322 0.16283739 ... 0.21445311 0.51247391 0.46631445]]]\n"
     ]
    }
   ],
   "source": [
    "import numpy as np\n",
    "\n",
    "num_patients = 5\n",
    "visits = 10\n",
    "num_features = 25\n",
    "\n",
    "# generating random EHR data\n",
    "ehr_data = np.random.rand(num_patients, visits, num_features)\n",
    "\n",
    "# sample sequence lengths for each patient\n",
    "seq_lengths = np.random.randint(1, visits + 1, size=num_patients)\n",
    "print(ehr_data)\n",
    "# display generated data\n",
    "# for i in range(num_patients):\n",
    "#     print(f\"Patient {i + 1} - Sequence Length: {seq_lengths[i]}\")\n",
    "#     print(ehr_data[i, :seq_lengths[i], :])\n",
    "#     print(\"-\" * 40)\n",
    "\n",
    "#[[  1.           0.          82.           0.21         0.\n",
    "#     0.           0.           0.           0.           0.\n",
    "#     1.           0.           0.           0.           0.\n",
    "#     0.           0.           0.           0.           1.\n",
    "#     0.           0.           0.           0.           0.\n",
    "#     0.           0.           0.           1.           0.\n",
    "#     0.           0.           0.           0.           0.\n",
    "#     0.           0.           0.           0.           0.\n",
    "#     0.           1.           0.           0.           0.\n",
    "#     0.           0.           0.           0.         128.\n",
    "#    57.         170.          87.         100.          19.\n",
    "#   104.          36.5         69.5356536    7.4          0.\n",
    "#     1.           0.           1.           1.           0.\n",
    "#     1.           0.           1.           0.           1.\n",
    "#     1.           1.           1.           1.           1.\n",
    "#     0.        ]\n",
    "#  [  1.           0.          51.           0.21         0.\n",
    "#     0.           0.           0.           0.           0.\n",
    "#     1.           0.           0.           0.           0.\n",
    "#     0.           0.           0.           0.           1.\n",
    "#     0.           0.           0.           0.           0.\n",
    "#     0.           0.           0.           1.           0.\n",
    "#     0.           0.           0.           0.           0.\n",
    "#     0.           0.           0.           0.           0.\n",
    "#     0.           1.           0.           0.           0.\n",
    "#     0.           0.           0.           0.         128.\n",
    "#    63.         170.          75.         100.          17.\n",
    "#   144.          36.5         69.5356536    7.4          0.\n",
    "#     1.           0.           0.           0.           0.\n",
    "#     0.           0.           1.           0.           1.\n",
    "#     1.           1.           1.           0.           0.\n",
    "#     0.        ]\n",
    "#  [  1.           0.          52.           0.21         0.\n",
    "#     0.           0.           0.           0.           0.\n",
    "#     1.           0.           0.           0.           0.\n",
    "#     0.           0.           0.           0.           1.\n",
    "#     0.           0.           0.           0.           0.\n",
    "#     0.           0.           0.           1.           0.\n",
    "#     0.           0.           0.           0.           0.\n",
    "#     0.           0.           0.           0.           0.\n",
    "#     0.           1.           0.           0.           0.\n",
    "#     0.           0.           0.           0.         128.\n",
    "#    63.         170.          80.         100.          18.\n",
    "#   161.          36.5         69.5356536    7.4          0.\n",
    "#     1.           0.           0.           0.           0.\n",
    "#     0.           0.           1.           0.           1.\n",
    "#     1.           1.           1.           0.           0.\n",
    "#     0.        ]\n",
    "#  [  1.           0.          58.           0.21         0.\n",
    "#     0.           0.           0.           0.           0.\n",
    "#     1.           0.           0.           0.           0.\n",
    "#     0.           0.           0.           0.           1.\n",
    "#     0.           0.           0.           0.           0.\n",
    "#     0.           0.           0.           1.           0.\n",
    "#     0.           0.           0.           0.           0.\n",
    "#     0.           0.           0.           0.           0.\n",
    "#     0.           1.           0.           0.           0.\n",
    "#     0.           0.           0.           0.         128.\n",
    "#    57.         170.          78.          96.          22.\n",
    "#   139.          36.5         69.5356536    7.4          0.\n",
    "#     1.           0.           0.           0.           0.\n",
    "#     0.           0.           1.           0.           1.\n",
    "#     1.           1.           1.           0.           0.\n",
    "#     0.        ]\n",
    "#  [  1.           0.          57.           0.21         0.\n",
    "#     0.           0.           0.           0.           0.\n",
    "#     1.           0.           0.           0.           0.\n",
    "#     0.           0.           0.           0.           1.\n",
    "#     0.           0.           0.           0.           0.\n",
    "#     0.           0.           0.           1.           0.\n",
    "#     0.           0.           0.           0.           0.\n",
    "#     0.           0.           0.           0.           0.\n",
    "#     0.           1.           0.           0.           0.\n",
    "#     0.           0.           0.           0.         128.\n",
    "#    59.         170.          88.         100.          21.\n",
    "#   174.          36.77777778  69.5356536    7.4          0.\n",
    "#     1.           0.           0.           0.           0.\n",
    "#     0.           0.           1.           0.           1.\n",
    "#     1.           1.           1.           1.           0.\n",
    "#     0.        ]\n",
    "#  [  1.           0.          56.           0.21         0.\n",
    "#     0.           0.           0.           0.           0.\n",
    "#     1.           0.           0.           0.           0.\n",
    "#     0.           0.           0.           0.           1.\n",
    "#     0.           0.           0.           0.           0.\n",
    "#     0.           0.           0.           1.           0.\n",
    "#     0.           0.           0.           0.           0.\n",
    "#     0.           0.           0.           0.           0.\n",
    "#     0.           1.           0.           0.           0.\n",
    "#     0.           0.           0.           0.         168.\n",
    "#    60.         170.          86.          99.          17.\n",
    "#   166.          36.77777778  69.5356536    7.4          0.\n",
    "#     1.           0.           0.           0.           0.\n",
    "#     0.           1.           1.           0.           1.\n",
    "#     1.           1.           1.           0.           0.\n",
    "#     0.        ]\n",
    "#  [  1.           0.          75.           0.21         0.\n",
    "#     0.           0.           0.           0.           0.\n",
    "#     1.           0.           0.           0.           0.\n",
    "#     0.           0.           0.           0.           1.\n",
    "#     0.           0.           0.           0.           0.\n",
    "#     0.           0.           0.           1.           0.\n",
    "#     0.           0.           0.           0.           0.\n",
    "#     0.           0.           0.           0.           0.\n",
    "#     0.           1.           0.           0.           0.\n",
    "#     0.           0.           0.           0.         168.\n",
    "#    59.         170.         100.         100.          20.\n",
    "#   174.          36.77777778  69.5356536    7.4          0.\n",
    "#     1.           0.           0.           0.           0.\n",
    "#     0.           0.           1.           0.           1.\n",
    "#     1.           1.           1.           0.           0.\n",
    "#     0.        ]\n",
    "#  [  1.           0.          65.           0.21         0.\n",
    "#     0.           0.           0.           0.           0.\n",
    "#     1.           0.           0.           0.           0.\n",
    "#     0.           0.           0.           0.           1.\n",
    "#     0.           0.           0.           0.           0.\n",
    "#     0.           0.           0.           1.           0.\n",
    "#     0.           0.           0.           0.           0.\n",
    "#     0.           0.           0.           0.           0.\n",
    "#     0.           1.           0.           0.           0.\n",
    "#     0.           0.           0.           0.         168.\n",
    "#    58.         170.          87.         100.          20.\n",
    "#   165.          36.77777778  69.5356536    7.4          0.\n",
    "#     1.           0.           0.           0.           0.\n",
    "#     0.           0.           1.           0.           1.\n",
    "#     1.           1.           1.           0.           0.\n",
    "#     0.        ]\n",
    "#  [  1.           0.          65.           0.21         0.\n",
    "#     0.           0.           0.           0.           0.\n",
    "#     1.           0.           0.           0.           0.\n",
    "#     0.           0.           0.           0.           1.\n",
    "#     0.           0.           0.           0.           0.\n",
    "#     0.           0.           0.           1.           0.\n",
    "#     0.           0.           0.           0.           0.\n",
    "#     0.           0.           0.           0.           0.\n",
    "#     0.           1.           0.           0.           0.\n",
    "#     0.           0.           0.           0.         168.\n",
    "#    58.         170.          92.          99.          23.\n",
    "#   183.          36.38888889  69.5356536    7.4          0.\n",
    "#     1.           0.           1.           1.           0.\n",
    "#     1.           0.           1.           0.           1.\n",
    "#     1.           1.           1.           1.           0.\n",
    "#     0.        ]\n",
    "#  [  1.           0.          80.           0.21         0.\n",
    "#     0.           0.           0.           0.           0.\n",
    "#     1.           0.           0.           0.           0.\n",
    "#     0.           0.           0.           0.           1.\n",
    "#     0.           0.           0.           0.           0.\n",
    "#     0.           0.           0.           1.           0.\n",
    "#     0.           0.           0.           0.           0.\n",
    "#     0.           0.           0.           0.           0.\n",
    "#     0.           1.           0.           0.           0.\n",
    "#     0.           0.           0.           0.         168.\n",
    "#    57.         170.          91.          99.          25.\n",
    "#   139.          36.38888889  69.5356536    7.4          0.\n",
    "#     1.           0.           0.           0.           0.\n",
    "#     0.           0.           1.           0.           1.\n",
    "#     1.           1.           1.           0.           0.\n",
    "#     0.        ]\n",
    "#  [  1.           0.          80.           0.21         0.\n",
    "#     0.           0.           0.           0.           0.\n",
    "#     1.           0.           0.           0.           0.\n",
    "#     0.           0.           0.           0.           1.\n",
    "#     0.           0.           0.           0.           0.\n",
    "#     0.           0.           0.           1.           0.\n",
    "#     0.           0.           0.           0.           0.\n",
    "#     0.           0.           0.           0.           0.\n",
    "#     0.           1.           0.           0.           0.\n",
    "#     0.           0.           0.           0.         168.\n",
    "#    57.         170.          91.          99.          25.\n",
    "#   139.          36.38888889  69.5356536    7.4          0.\n",
    "#     0.           0.           0.           0.           0.\n",
    "#     0.           0.           0.           0.           0.\n",
    "#     0.           0.           0.           0.           0.\n",
    "#     0.        ]])"
   ]
  },
  {
   "cell_type": "code",
   "execution_count": 3,
   "id": "816264b1-066b-4b78-8913-19dc80855a55",
   "metadata": {},
   "outputs": [
    {
     "name": "stdout",
     "output_type": "stream",
     "text": [
      "(3, 17)\n",
      "[[  0.         81.          0.21        2.          5.         13.\n",
      "    3.        128.        150.        170.         85.        100.\n",
      "   24.         99.         36.6        81.          7.4      ]\n",
      " [  0.         51.          0.21        3.          6.         14.\n",
      "    3.        128.         63.        170.         75.        100.\n",
      "   17.        144.         36.5        69.5356536   7.4      ]\n",
      " [  0.         52.          0.21        4.          2.         15.\n",
      "    3.        128.         63.        170.         80.        100.\n",
      "   18.        161.         36.5        69.5356536   7.4      ]]\n"
     ]
    }
   ],
   "source": [
    "import numpy as np\n",
    "ehr_datas = np.array([\n",
    "    [0.0, 81.0, 0.21, 2 , 5, 13, 3, 128.0, 150.0, 170.0, 85.0, 100.0, 24.0, 99.0, 36.6, 81.0, 7.4],\n",
    "    [0.0, 51.0, 0.21, 3 , 6, 14, 3, 128.0, 63.0, 170.0, 75.0, 100.0, 17.0, 144.0, 36.5, 69.5356536, 7.4],\n",
    "    [0.0, 52.0, 0.21, 4 , 2, 15, 3, 128.0, 63.0, 170.0, 80.0, 100.0, 18.0, 161.0, 36.5, 69.5356536, 7.4]\n",
    "])\n",
    "\n",
    "print(ehr_datas.shape)\n",
    "print(ehr_datas)\n",
    "\n"
   ]
  },
  {
   "cell_type": "code",
   "execution_count": 4,
   "id": "3691fa3f-a8fc-4375-97a2-44f09fb94ad6",
   "metadata": {},
   "outputs": [
    {
     "name": "stdout",
     "output_type": "stream",
     "text": [
      "17\n"
     ]
    }
   ],
   "source": [
    "normal_values= {'Capillary refill rate': '0.0', 'Diastolic blood pressure': '59.0', 'Fraction inspired oxygen': '0.21',\n",
    "                'Glascow coma scale eye opening': '4 Spontaneously', 'Glascow coma scale motor response': '6 Obeys Commands', \n",
    "                'Glascow coma scale total': '15', 'Glascow coma scale verbal response': '5 Oriented', 'Glucose': '128.0', \n",
    "                'Heart Rate': '86', 'Height': '170.0', 'Mean blood pressure': '77.0', 'Oxygen saturation': '98.0', \n",
    "                'Respiratory rate': '19', 'Systolic blood pressure': '118.0', 'Temperature': '36.6', 'Weight': '81.0', 'pH': '7.4'}\n",
    "\n",
    "print(len(normal_values))"
   ]
  },
  {
   "cell_type": "code",
   "execution_count": 7,
   "id": "5d4fdeb5-8959-4804-9594-e196a92115aa",
   "metadata": {},
   "outputs": [
    {
     "ename": "ValueError",
     "evalue": "could not convert string to float: '4 Spontaneously'",
     "output_type": "error",
     "traceback": [
      "\u001b[0;31m---------------------------------------------------------------------------\u001b[0m",
      "\u001b[0;31mValueError\u001b[0m                                Traceback (most recent call last)",
      "\u001b[0;32m<ipython-input-7-c9681aa6dc1d>\u001b[0m in \u001b[0;36m<module>\u001b[0;34m\u001b[0m\n\u001b[1;32m      9\u001b[0m     \u001b[0mdata\u001b[0m\u001b[0;34m[\u001b[0m\u001b[0;36m2\u001b[0m\u001b[0;34m,\u001b[0m\u001b[0;34m:\u001b[0m\u001b[0;34m]\u001b[0m \u001b[0;34m=\u001b[0m \u001b[0mnp\u001b[0m\u001b[0;34m.\u001b[0m\u001b[0marray\u001b[0m\u001b[0;34m(\u001b[0m\u001b[0;34m[\u001b[0m\u001b[0mvalue\u001b[0m \u001b[0;32mfor\u001b[0m \u001b[0mvalue\u001b[0m \u001b[0;32min\u001b[0m \u001b[0mnormal_values\u001b[0m\u001b[0;34m.\u001b[0m\u001b[0mvalues\u001b[0m\u001b[0;34m(\u001b[0m\u001b[0;34m)\u001b[0m\u001b[0;34m]\u001b[0m\u001b[0;34m)\u001b[0m\u001b[0;34m\u001b[0m\u001b[0;34m\u001b[0m\u001b[0m\n\u001b[1;32m     10\u001b[0m     \u001b[0;32mreturn\u001b[0m \u001b[0mdata\u001b[0m\u001b[0;34m\u001b[0m\u001b[0;34m\u001b[0m\u001b[0m\n\u001b[0;32m---> 11\u001b[0;31m \u001b[0mvertical_mask\u001b[0m\u001b[0;34m(\u001b[0m\u001b[0mehr_datas\u001b[0m\u001b[0;34m)\u001b[0m\u001b[0;34m\u001b[0m\u001b[0;34m\u001b[0m\u001b[0m\n\u001b[0m",
      "\u001b[0;32m<ipython-input-7-c9681aa6dc1d>\u001b[0m in \u001b[0;36mvertical_mask\u001b[0;34m(data, max_percent)\u001b[0m\n\u001b[1;32m      7\u001b[0m     \u001b[0mnp\u001b[0m\u001b[0;34m.\u001b[0m\u001b[0mrandom\u001b[0m\u001b[0;34m.\u001b[0m\u001b[0mshuffle\u001b[0m\u001b[0;34m(\u001b[0m\u001b[0ma\u001b[0m\u001b[0;34m)\u001b[0m\u001b[0;34m\u001b[0m\u001b[0;34m\u001b[0m\u001b[0m\n\u001b[1;32m      8\u001b[0m     \u001b[0ma\u001b[0m \u001b[0;34m=\u001b[0m \u001b[0ma\u001b[0m\u001b[0;34m.\u001b[0m\u001b[0mastype\u001b[0m\u001b[0;34m(\u001b[0m\u001b[0mbool\u001b[0m\u001b[0;34m)\u001b[0m\u001b[0;34m\u001b[0m\u001b[0;34m\u001b[0m\u001b[0m\n\u001b[0;32m----> 9\u001b[0;31m     \u001b[0mdata\u001b[0m\u001b[0;34m[\u001b[0m\u001b[0;36m2\u001b[0m\u001b[0;34m,\u001b[0m\u001b[0;34m:\u001b[0m\u001b[0;34m]\u001b[0m \u001b[0;34m=\u001b[0m \u001b[0mnp\u001b[0m\u001b[0;34m.\u001b[0m\u001b[0marray\u001b[0m\u001b[0;34m(\u001b[0m\u001b[0;34m[\u001b[0m\u001b[0mvalue\u001b[0m \u001b[0;32mfor\u001b[0m \u001b[0mvalue\u001b[0m \u001b[0;32min\u001b[0m \u001b[0mnormal_values\u001b[0m\u001b[0;34m.\u001b[0m\u001b[0mvalues\u001b[0m\u001b[0;34m(\u001b[0m\u001b[0;34m)\u001b[0m\u001b[0;34m]\u001b[0m\u001b[0;34m)\u001b[0m\u001b[0;34m\u001b[0m\u001b[0;34m\u001b[0m\u001b[0m\n\u001b[0m\u001b[1;32m     10\u001b[0m     \u001b[0;32mreturn\u001b[0m \u001b[0mdata\u001b[0m\u001b[0;34m\u001b[0m\u001b[0;34m\u001b[0m\u001b[0m\n\u001b[1;32m     11\u001b[0m \u001b[0mvertical_mask\u001b[0m\u001b[0;34m(\u001b[0m\u001b[0mehr_datas\u001b[0m\u001b[0;34m)\u001b[0m\u001b[0;34m\u001b[0m\u001b[0;34m\u001b[0m\u001b[0m\n",
      "\u001b[0;31mValueError\u001b[0m: could not convert string to float: '4 Spontaneously'"
     ]
    }
   ],
   "source": [
    "def vertical_mask(data, max_percent=0.4):\n",
    "    # mask over each timestep (t, features)\n",
    "    length = data.shape[0]\n",
    "    size = int(np.random.randint(low=0, high=max(int(max_percent*length),1), size=1))\n",
    "    a = np.zeros(length , dtype=int)\n",
    "    a[:size] = 1\n",
    "    np.random.shuffle(a)\n",
    "    a = a.astype(bool)\n",
    "    data[2,:] = np.array([value for value in normal_values.values()])\n",
    "    return data\n",
    "vertical_mask(ehr_datas)"
   ]
  },
  {
   "cell_type": "code",
   "execution_count": 9,
   "id": "53d33eaa-e3e9-4196-8bbb-735e950de922",
   "metadata": {},
   "outputs": [
    {
     "data": {
      "text/plain": [
       "array([[200, 200,   3,   4,   5],\n",
       "       [  6,   7,   8,   9,  10]])"
      ]
     },
     "execution_count": 9,
     "metadata": {},
     "output_type": "execute_result"
    }
   ],
   "source": [
    "def horizontal_mask(data, max_percent=0.4):\n",
    "    # mask over each feature (t, features)\n",
    "    length = data.shape[1] - 1\n",
    "    size = int(np.random.randint(low=0, high=max(int(max_percent*length),1), size=1))\n",
    "    features = np.unique(np.random.randint(low=1, high=length, size=size))\n",
    "    for i in features:\n",
    "        print(data[:, i+1])\n",
    "        print(list(normal_values.values())[i])\n",
    "        data[:,i] = list(normal_values.values())[i]\n",
    "    return data\n",
    "horizontal_mask(ehr_datas)"
   ]
  },
  {
   "cell_type": "code",
   "execution_count": 8,
   "id": "a56d7bd1-a349-475a-88b3-c4d182052d40",
   "metadata": {},
   "outputs": [
    {
     "data": {
      "text/plain": [
       "array([[0.00000000e+000, 8.10000000e+001, 2.10000000e-001,\n",
       "        2.00000000e+000, 5.00000000e+000, 1.30000000e+001,\n",
       "        3.00000000e+000, 1.28000000e+002, 1.50000000e+002,\n",
       "        1.70000000e+002, 8.50000000e+001, 1.00000000e+002,\n",
       "        2.40000000e+001, 9.90000000e+001, 3.66000000e+001,\n",
       "        8.10000000e+001, 7.40000000e+000],\n",
       "       [0.00000000e+000, 5.10000000e+001, 2.10000000e-001,\n",
       "        3.00000000e+000, 6.00000000e+000, 1.40000000e+001,\n",
       "        3.00000000e+000, 1.28000000e+002, 6.30000000e+001,\n",
       "        1.70000000e+002, 7.50000000e+001, 1.00000000e+002,\n",
       "        1.70000000e+001, 1.44000000e+002, 3.65000000e+001,\n",
       "        6.95356536e+001, 7.40000000e+000],\n",
       "       [0.00000000e+000, 5.90000000e+001, 2.10000000e-001,\n",
       "        6.01347002e-154, 6.01355004e-154, 6.01347002e-154,\n",
       "        6.01347002e-154, 1.12590726e-153, 6.01347002e-154,\n",
       "        6.01771527e-154, 6.01355004e-154, 6.01347002e-154,\n",
       "        6.01347002e-154, 1.12576158e-153, 6.01347002e-154,\n",
       "        6.01347033e-154, 6.96312257e-077]])"
      ]
     },
     "execution_count": 8,
     "metadata": {},
     "output_type": "execute_result"
    }
   ],
   "source": [
    "def drop_start(data, max_percent=0.4):\n",
    "    length = data.shape[0]\n",
    "    start = int(np.random.randint(low=0, high=max(int(max_percent*length),1), size=1))\n",
    "    return data[start:,:]\n",
    "drop_start(ehr_datas)"
   ]
  },
  {
   "cell_type": "code",
   "execution_count": 9,
   "id": "300f5c80-c1fc-4d08-b080-bcd7d74322ae",
   "metadata": {},
   "outputs": [
    {
     "name": "stdout",
     "output_type": "stream",
     "text": [
      "[[-0.01515564  0.22723883]\n",
      " [-0.08224597 -1.28357808]]\n",
      "2 2\n"
     ]
    },
    {
     "data": {
      "text/plain": [
       "array([[202, 200,   3,   4,   6],\n",
       "       [  4,   7,   8,   9,   9]])"
      ]
     },
     "execution_count": 9,
     "metadata": {},
     "output_type": "execute_result"
    }
   ],
   "source": [
    "begin_pos = [0, 4]  \n",
    "test_arr = np.array ([[200, 200, 3 , 4 , 5] , [ 6, 7 ,8, 9, 10]])\n",
    "def gaussian_blur(data, begin_pos):\n",
    "    mean, std = 0 , 2\n",
    "    print( np.random.normal(mean, std, (data.shape[0], len(begin_pos))))\n",
    "    print(data.shape[0], len(begin_pos))\n",
    "    data[:, begin_pos] = data[:, begin_pos]  + np.random.normal(mean, std, (data.shape[0], len(begin_pos)))\n",
    "    return data\n",
    "gaussian_blur(test_arr, begin_pos)\n"
   ]
  },
  {
   "cell_type": "code",
   "execution_count": 10,
   "id": "4cd23bd0-2fc1-4124-935b-9a6345d5ef8e",
   "metadata": {},
   "outputs": [
    {
     "data": {
      "text/plain": [
       "array([[  6,   7,   8,   9,  10],\n",
       "       [200, 200,   3,   4,   5]])"
      ]
     },
     "execution_count": 10,
     "metadata": {},
     "output_type": "execute_result"
    }
   ],
   "source": [
    "import random\n",
    "def rotation(data):\n",
    "    choice = random.randint(0,1)\n",
    "    if choice:\n",
    "        return np.flip(data, axis=0)\n",
    "    return data\n",
    "rotation(test_arr)"
   ]
  },
  {
   "cell_type": "code",
   "execution_count": 13,
   "id": "e5694dc8-c52f-48ae-9d5e-ad8cecc4fd1a",
   "metadata": {},
   "outputs": [
    {
     "ename": "NameError",
     "evalue": "name 'choice' is not defined",
     "output_type": "error",
     "traceback": [
      "\u001b[0;31m---------------------------------------------------------------------------\u001b[0m",
      "\u001b[0;31mNameError\u001b[0m                                 Traceback (most recent call last)",
      "\u001b[0;32m<ipython-input-13-63d6566d5e98>\u001b[0m in \u001b[0;36m<module>\u001b[0;34m\u001b[0m\n\u001b[1;32m      2\u001b[0m     \u001b[0mstep\u001b[0m \u001b[0;34m=\u001b[0m \u001b[0mchoice\u001b[0m\u001b[0;34m(\u001b[0m\u001b[0;34m[\u001b[0m\u001b[0;36m1\u001b[0m\u001b[0;34m,\u001b[0m \u001b[0;36m2\u001b[0m\u001b[0;34m,\u001b[0m \u001b[0;36m3\u001b[0m\u001b[0;34m]\u001b[0m\u001b[0;34m)\u001b[0m\u001b[0;34m\u001b[0m\u001b[0;34m\u001b[0m\u001b[0m\n\u001b[1;32m      3\u001b[0m     \u001b[0;32mreturn\u001b[0m \u001b[0mdata\u001b[0m\u001b[0;34m[\u001b[0m\u001b[0;34m:\u001b[0m\u001b[0;34m:\u001b[0m\u001b[0mstep\u001b[0m\u001b[0;34m]\u001b[0m\u001b[0;34m\u001b[0m\u001b[0;34m\u001b[0m\u001b[0m\n\u001b[0;32m----> 4\u001b[0;31m \u001b[0mdownsample\u001b[0m\u001b[0;34m(\u001b[0m\u001b[0mtest_arr\u001b[0m\u001b[0;34m)\u001b[0m\u001b[0;34m\u001b[0m\u001b[0;34m\u001b[0m\u001b[0m\n\u001b[0m",
      "\u001b[0;32m<ipython-input-13-63d6566d5e98>\u001b[0m in \u001b[0;36mdownsample\u001b[0;34m(data)\u001b[0m\n\u001b[1;32m      1\u001b[0m \u001b[0;32mdef\u001b[0m \u001b[0mdownsample\u001b[0m\u001b[0;34m(\u001b[0m\u001b[0mdata\u001b[0m\u001b[0;34m)\u001b[0m\u001b[0;34m:\u001b[0m\u001b[0;34m\u001b[0m\u001b[0;34m\u001b[0m\u001b[0m\n\u001b[0;32m----> 2\u001b[0;31m     \u001b[0mstep\u001b[0m \u001b[0;34m=\u001b[0m \u001b[0mchoice\u001b[0m\u001b[0;34m(\u001b[0m\u001b[0;34m[\u001b[0m\u001b[0;36m1\u001b[0m\u001b[0;34m,\u001b[0m \u001b[0;36m2\u001b[0m\u001b[0;34m,\u001b[0m \u001b[0;36m3\u001b[0m\u001b[0;34m]\u001b[0m\u001b[0;34m)\u001b[0m\u001b[0;34m\u001b[0m\u001b[0;34m\u001b[0m\u001b[0m\n\u001b[0m\u001b[1;32m      3\u001b[0m     \u001b[0;32mreturn\u001b[0m \u001b[0mdata\u001b[0m\u001b[0;34m[\u001b[0m\u001b[0;34m:\u001b[0m\u001b[0;34m:\u001b[0m\u001b[0mstep\u001b[0m\u001b[0;34m]\u001b[0m\u001b[0;34m\u001b[0m\u001b[0;34m\u001b[0m\u001b[0m\n\u001b[1;32m      4\u001b[0m \u001b[0mdownsample\u001b[0m\u001b[0;34m(\u001b[0m\u001b[0mtest_arr\u001b[0m\u001b[0;34m)\u001b[0m\u001b[0;34m\u001b[0m\u001b[0;34m\u001b[0m\u001b[0m\n",
      "\u001b[0;31mNameError\u001b[0m: name 'choice' is not defined"
     ]
    }
   ],
   "source": [
    "def downsample(data):\n",
    "    if data.shape[0] < 20:\n",
    "        return data\n",
    "    step = choice([1, 2, 3])\n",
    "    return data[::step]\n",
    "downsample(ehr_datas)"
   ]
  },
  {
   "cell_type": "code",
   "execution_count": 12,
   "id": "25a321c0-d425-41c5-93fd-2884e809bbaf",
   "metadata": {},
   "outputs": [
    {
     "name": "stdout",
     "output_type": "stream",
     "text": [
      "[[1 3 4 0 1]\n",
      " [0 1 2 1 1]\n",
      " [1 1 5 0 2]\n",
      " [1 5 1 5 0]\n",
      " [5 0 2 1 3]]\n"
     ]
    },
    {
     "data": {
      "text/plain": [
       "array([1., 1., 1., 1., 1.])"
      ]
     },
     "execution_count": 12,
     "metadata": {},
     "output_type": "execute_result"
    }
   ],
   "source": [
    "arr = np.random.randint(0,6,[5,5])\n",
    "print(arr)\n",
    "arr.mean(axis=0)\n",
    "arr.std(axis=0)\n",
    "arr = (arr - arr.mean(axis=0)) / arr.std(axis=0)\n",
    "arr\n",
    "arr.std(axis=0)"
   ]
  },
  {
   "cell_type": "code",
   "execution_count": null,
   "id": "dacdbfd9-fc3c-4395-93f4-6081835a0cec",
   "metadata": {},
   "outputs": [],
   "source": [
    "def augment(serial, stepped, aug_count):\n",
    "    \n",
    "    # randomly creates 10*aug_count augmentated versions of the input trajectory\n",
    "    # by truncating / masking / shuffling combinations of events within the list\n",
    "    try:\n",
    "        z = [shuffle_stepped(stepped, len(serial)) for _ in range(aug_count)]\n",
    "        augmentation_selector = np.random.choice([0, 1], 10*aug_count, p=[0.7, 0.3], replace=True)\n",
    "        first_data = min(np.nonzero(serial)[0])\n",
    "        data_elems = len(serial[first_data:])\n",
    "        x = [mask_serial(z[i//10], first_data, data_elems) for i, x in enumerate(augmentation_selector) if x == 0]\n",
    "        y = [truncate_serial(z[i//10], first_data, data_elems) for i, x in enumerate(augmentation_selector) if x == 1] \n",
    "        return x + y\n",
    "    except:\n",
    "        return [serial.astype(int) for _ in range(aug_count*20)]\n",
    "    \n",
    "def mask_serial(serial, first_data, data_elems):\n",
    "    # removes somewhere between 1 and half the number of elements in the list - random mask\n",
    "    mask_num = np.random.randint(1, max(2, data_elems//2))\n",
    "    mask = np.random.choice(list(range(first_data, len(serial))), data_elems - mask_num, replace=False)\n",
    "    return np.hstack([[0]*(mask_num+first_data), serial[sorted(mask)]]).astype(np.int64)   \n",
    "\n",
    "def shuffle_stepped(stepped, n):\n",
    "    # shuffles events that occur within the same 1hr period and reassembles into a serial trajectory\n",
    "    try:\n",
    "        for i in range(stepped.shape[0]):\n",
    "            nz = np.nonzero(stepped[i])[0]\n",
    "            if len(nz) > 0:\n",
    "                first_data = min(nz)\n",
    "                np.random.shuffle(stepped[i][first_data:])\n",
    "        s = stepped[np.nonzero(stepped)].flatten()\n",
    "        return np.hstack([[0]*(max(0, n-len(s))), s[-n:]]).astype(np.int64)\n",
    "    except:\n",
    "        return np.array(stepped)\n",
    "\n",
    "def truncate_serial(serial, first_data, data_elems):\n",
    "    # removes somewhere between 1 and a third of the number of elements in the list - drops oldest events\n",
    "    truncate_num = np.random.randint(1, max(2, data_elems//3))\n",
    "    return np.hstack([[0]*(first_data+truncate_num), serial[first_data + truncate_num:]]).astype(np.int64)"
   ]
  }
 ],
 "metadata": {
  "kernelspec": {
   "display_name": "MML SSL",
   "language": "python",
   "name": "mml-ssl"
  },
  "language_info": {
   "codemirror_mode": {
    "name": "ipython",
    "version": 3
   },
   "file_extension": ".py",
   "mimetype": "text/x-python",
   "name": "python",
   "nbconvert_exporter": "python",
   "pygments_lexer": "ipython3",
   "version": "3.6.12"
  }
 },
 "nbformat": 4,
 "nbformat_minor": 5
}
