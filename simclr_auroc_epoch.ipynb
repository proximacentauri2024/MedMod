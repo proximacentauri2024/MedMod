{
 "cells": [
  {
   "cell_type": "code",
   "execution_count": 1,
   "id": "473f4a14",
   "metadata": {},
   "outputs": [
    {
     "name": "stderr",
     "output_type": "stream",
     "text": [
      "/scratch/fs999/shamoutlab/conda-envs/med_fuse/lib/python3.9/site-packages/tqdm/auto.py:22: TqdmWarning: IProgress not found. Please update jupyter and ipywidgets. See https://ipywidgets.readthedocs.io/en/stable/user_install.html\n",
      "  from .autonotebook import tqdm as notebook_tqdm\n"
     ]
    }
   ],
   "source": [
    "import torch\n",
    "from sklearn.linear_model import LogisticRegression as LR\n",
    "import pickle\n",
    "from sklearn.metrics import roc_auc_score, average_precision_score\n",
    "import glob\n",
    "import os\n",
    "import numpy as np\n",
    "import matplotlib.pyplot as plt\n",
    "\n",
    "import pandas as pd\n",
    "from pytorch_lightning import LightningModule, Trainer\n",
    "from pytorch_lightning.loggers import CSVLogger\n",
    "from torch import nn\n",
    "from torch.nn import functional as F\n",
    "import torch.nn as nn\n",
    "from torch.utils.data import DataLoader, random_split\n",
    "import torch.utils.data as data\n",
    "from torchmetrics import Accuracy\n",
    "from torchvision import transforms\n",
    "\n",
    "from pytorch_lightning.callbacks import ModelCheckpoint"
   ]
  },
  {
   "cell_type": "code",
   "execution_count": 2,
   "id": "5ac9b239",
   "metadata": {},
   "outputs": [],
   "source": [
    "import warnings\n",
    "warnings.filterwarnings(\"ignore\")\n",
    "from pytorch_lightning.callbacks import TQDMProgressBar\n"
   ]
  },
  {
   "cell_type": "code",
   "execution_count": 3,
   "id": "562518a2",
   "metadata": {},
   "outputs": [],
   "source": [
    "# 1 To get the desired results, enter the file_name or directory of features\n",
    "file_name =  'VICREG-1556899' #'SIMCLR-954015' #'SIMCLR-760276-EVAL'#'SIMCLR-760276'\n",
    "\n",
    "\n",
    "\n",
    "# 2 change the load_data function \n",
    "def load_data(mode, e, file_name):\n",
    "    feats_ehr = torch.load(path+\"{}/{}_feats_ehr_epoch_{}.pt\".format(file_name,mode, e))\n",
    "    feats_img = torch.load(path+\"{}/{}_feats_img_epoch_{}.pt\".format(file_name,mode, e))\n",
    "    y = torch.load(path+\"{}/{}_y_epoch_{}.pt\".format(file_name,mode, e))\n",
    "    return feats_ehr, feats_img, y"
   ]
  },
  {
   "cell_type": "code",
   "execution_count": 4,
   "id": "8a2d1a1a",
   "metadata": {},
   "outputs": [
    {
     "name": "stdout",
     "output_type": "stream",
     "text": [
      "0\n"
     ]
    },
    {
     "ename": "ValueError",
     "evalue": "max() arg is an empty sequence",
     "output_type": "error",
     "traceback": [
      "\u001b[0;31m---------------------------------------------------------------------------\u001b[0m",
      "\u001b[0;31mValueError\u001b[0m                                Traceback (most recent call last)",
      "Cell \u001b[0;32mIn [4], line 8\u001b[0m\n\u001b[1;32m      6\u001b[0m names \u001b[38;5;241m=\u001b[39m  [os\u001b[38;5;241m.\u001b[39mpath\u001b[38;5;241m.\u001b[39mbasename(x) \u001b[38;5;28;01mfor\u001b[39;00m x \u001b[38;5;129;01min\u001b[39;00m paths]\n\u001b[1;32m      7\u001b[0m epoch_nums \u001b[38;5;241m=\u001b[39m [\u001b[38;5;28mint\u001b[39m(x\u001b[38;5;241m.\u001b[39msplit(\u001b[38;5;124m'\u001b[39m\u001b[38;5;124mepoch_\u001b[39m\u001b[38;5;124m'\u001b[39m)[\u001b[38;5;241m1\u001b[39m]\u001b[38;5;241m.\u001b[39msplit(\u001b[38;5;124m'\u001b[39m\u001b[38;5;124m.pt\u001b[39m\u001b[38;5;124m'\u001b[39m)[\u001b[38;5;241m0\u001b[39m]) \u001b[38;5;28;01mfor\u001b[39;00m x \u001b[38;5;129;01min\u001b[39;00m names]\n\u001b[0;32m----> 8\u001b[0m max_epoch \u001b[38;5;241m=\u001b[39m \u001b[38;5;28;43mmax\u001b[39;49m\u001b[43m(\u001b[49m\u001b[43mepoch_nums\u001b[49m\u001b[43m)\u001b[49m\n\u001b[1;32m      9\u001b[0m \u001b[38;5;28mprint\u001b[39m(\u001b[38;5;124m'\u001b[39m\u001b[38;5;124mMax epoch idx (based on stored feats) =\u001b[39m\u001b[38;5;124m'\u001b[39m, max_epoch)\n\u001b[1;32m     11\u001b[0m \u001b[38;5;66;03m## Get model paths as well\u001b[39;00m\n",
      "\u001b[0;31mValueError\u001b[0m: max() arg is an empty sequence"
     ]
    }
   ],
   "source": [
    "## Get features stored during training for models at each checkpoint\n",
    "path = \"/scratch/fs999/shamoutlab/Farah/contrastive-learning-results/checkpoints/phenotyping/models/simclr_lr/\"\n",
    "paths = glob.glob(path+\"{}/*\".format(file_name))\n",
    "print(len(paths))\n",
    "\n",
    "names =  [os.path.basename(x) for x in paths]\n",
    "epoch_nums = [int(x.split('epoch_')[1].split('.pt')[0]) for x in names]\n",
    "max_epoch = max(epoch_nums)\n",
    "print('Max epoch idx (based on stored feats) =', max_epoch)\n",
    "\n",
    "## Get model paths as well\n",
    "path_models = \"/scratch/fs999/shamoutlab/Farah/contrastive-learning-results/checkpoints/phenotyping/models/\"\n",
    "paths_models = glob.glob(path_models+\"{}/*\".format(file_name))\n",
    "print('\\nNumber of epochs =',len(paths_models))\n",
    "max_epoch = len(paths_models)-1\n",
    "print('Max epoch idx =', max_epoch)\n"
   ]
  },
  {
   "cell_type": "code",
   "execution_count": 8,
   "id": "779b2b85",
   "metadata": {},
   "outputs": [],
   "source": [
    "class LCModel(LightningModule):\n",
    "    def __init__(self):\n",
    "        super().__init__()\n",
    "        self.fused_cls = nn.Sequential(\n",
    "                nn.Linear(3*2*128, 25), #2*128 or 640\n",
    "                nn.Sigmoid()\n",
    "            )\n",
    "        self.automatic_optimization = False\n",
    "    def forward(self, x, imgs):\n",
    "        feats = torch.cat([x, imgs], dim=1)\n",
    "        fused_preds = self.fused_cls(feats)\n",
    "        return {'y_pred': fused_preds}\n",
    "\n",
    "    def training_step(self, batch, batch_nb):\n",
    "        opt = self.optimizers()\n",
    "        opt.zero_grad()\n",
    "        x, imgs, y = batch\n",
    "        y=y.float()\n",
    "        preds = self(x, imgs)['y_pred']\n",
    "        loss = nn.BCELoss()(preds, y)\n",
    "        self.manual_backward(loss)\n",
    "        opt.step()\n",
    "        return {'loss': loss,'y':y, 'y_pred': preds}\n",
    "        \n",
    "    def validation_step(self, batch, batch_nb):\n",
    "        x, imgs, y = batch\n",
    "        preds=self(x, imgs)['y_pred']\n",
    "        return {'y':y, 'y_pred': preds}\n",
    "    \n",
    "    def test_step(self, batch, batch_nb):\n",
    "        x, imgs, y = batch\n",
    "        preds=self(x, imgs)['y_pred']\n",
    "        return {'y':y, 'y_pred': preds}\n",
    "    \n",
    "    \n",
    "    def validation_epoch_end(self, outputs):\n",
    "        y = []\n",
    "        preds = []\n",
    "                        \n",
    "        # Iterate through batches and append\n",
    "        i=0\n",
    "        for output in outputs:\n",
    "            if i ==0:\n",
    "                preds = output['y_pred'].tolist()\n",
    "                y = output['y'].tolist()\n",
    "            else:\n",
    "                preds.extend(output['y_pred'].tolist())\n",
    "                y.extend(output['y'].tolist())\n",
    "            i+=1\n",
    "        \n",
    "        auroc = roc_auc_score(y, preds)\n",
    "        auprc = average_precision_score(y, preds)\n",
    "        self.log(\"val_auroc\", auroc, on_step=False, on_epoch=True, prog_bar=False)\n",
    "    \n",
    "    def test_epoch_end(self, outputs):\n",
    "        y = []\n",
    "        preds = []\n",
    "                        \n",
    "        # Iterate through batches and append\n",
    "        i=0\n",
    "        for output in outputs:\n",
    "            if i ==0:\n",
    "                preds = output['y_pred'].tolist()\n",
    "                y = output['y'].tolist()\n",
    "            else:\n",
    "                preds.extend(output['y_pred'].tolist())\n",
    "                y.extend(output['y'].tolist())\n",
    "            i+=1\n",
    "        \n",
    "        auroc = roc_auc_score(y, preds)\n",
    "        auprc = average_precision_score(y, preds)\n",
    "        \n",
    "        self.log_dict({\"auroc\": auroc, \"auprc\": auprc})\n",
    "        \n",
    "\n",
    "    def configure_optimizers(self):\n",
    "        return torch.optim.Adam(self.parameters(), lr=0.01)\n",
    "    \n",
    "    "
   ]
  },
  {
   "cell_type": "code",
   "execution_count": 10,
   "id": "62dd539c",
   "metadata": {
    "scrolled": true
   },
   "outputs": [
    {
     "name": "stdout",
     "output_type": "stream",
     "text": [
      "SIMCLR SIMCLR-954015 checkpoint of epoch number  0\n"
     ]
    },
    {
     "name": "stderr",
     "output_type": "stream",
     "text": [
      "GPU available: False, used: False\n",
      "TPU available: False, using: 0 TPU cores\n",
      "IPU available: False, using: 0 IPUs\n",
      "HPU available: False, using: 0 HPUs\n",
      "\n",
      "  | Name      | Type       | Params\n",
      "-----------------------------------------\n",
      "0 | fused_cls | Sequential | 19.2 K\n",
      "-----------------------------------------\n",
      "19.2 K    Trainable params\n",
      "0         Non-trainable params\n",
      "19.2 K    Total params\n",
      "0.077     Total estimated model params size (MB)\n"
     ]
    },
    {
     "name": "stdout",
     "output_type": "stream",
     "text": [
      "Best model score =  tensor(0.6301, dtype=torch.float64)\n",
      "────────────────────────────────────────────────────────────────────────────────────────────────────────────────────────\n",
      "       Test metric             DataLoader 0\n",
      "────────────────────────────────────────────────────────────────────────────────────────────────────────────────────────\n",
      "          auprc              0.333722044331038\n",
      "          auroc             0.6189196906117486\n",
      "────────────────────────────────────────────────────────────────────────────────────────────────────────────────────────\n",
      "────────────────────────────────────────────────────────────────────────────────────────────────────────────────────────\n",
      "       Test metric             DataLoader 0\n",
      "────────────────────────────────────────────────────────────────────────────────────────────────────────────────────────\n",
      "          auprc             0.3449351923582962\n",
      "          auroc             0.6300969446987316\n",
      "────────────────────────────────────────────────────────────────────────────────────────────────────────────────────────\n"
     ]
    }
   ],
   "source": [
    "results = {}\n",
    "bs = 512\n",
    "lr = 0.01\n",
    "num_epochs=200\n",
    "# for bs 64 best lr is 0.02\n",
    "for i in range(0, 1): #max_epoch\n",
    "    print(\"SIMCLR {} checkpoint of epoch number \".format(file_name) , i)\n",
    "    results[i] = {}\n",
    "    \n",
    "    # Load training set\n",
    "    tr_feats_ehr, tr_feats_img, tr_y = load_data('train', i, file_name)\n",
    "    #tr_feats_ehr = tr_feats_ehr[:1450]\n",
    "    #tr_feats_img = tr_feats_img[:1450]\n",
    "    #tr_y = tr_y[:1450]\n",
    "    tr_y=torch.from_numpy(np.array(tr_y))\n",
    "\n",
    "    # Load validation set\n",
    "    val_feats_ehr, val_feats_img, val_y = load_data('val', i, file_name) \n",
    "    val_y=torch.from_numpy(np.array(val_y))\n",
    "    \n",
    "    # Define the data loaders\n",
    "    train_loader=DataLoader(data.TensorDataset(tr_feats_ehr, tr_feats_img, tr_y), batch_size=bs, shuffle=False, drop_last=False)\n",
    "    val_loader=DataLoader(data.TensorDataset(val_feats_ehr, val_feats_img, val_y), batch_size=bs, shuffle=False, drop_last=False)\n",
    "\n",
    "    model = LCModel()\n",
    "    \n",
    "    # Train the logistic regression model\n",
    "    checkpoint_callback = ModelCheckpoint(monitor=\"val_auroc\", mode='max')\n",
    "    # Refresh rate is number of batches\n",
    "    trainer = Trainer(\n",
    "        accelerator=\"auto\",\n",
    "        devices=1 if torch.cuda.is_available() else None,  # limiting got iPython runs\n",
    "        max_epochs=num_epochs,\n",
    "        callbacks=[checkpoint_callback], enable_progress_bar=False\n",
    "        )\n",
    "\n",
    "    trainer.fit(model, train_loader, val_loader)\n",
    "    \n",
    "    # Load best check point\n",
    "    print(\"Best model score = \", trainer.checkpoint_callback.best_model_score)\n",
    "    model = LCModel.load_from_checkpoint(trainer.checkpoint_callback.best_model_path)\n",
    "    \n",
    "    # Evaluate on the training set\n",
    "    trainer.test(model, dataloaders=train_loader)\n",
    "    \n",
    "    results[i]['train_auroc'] = trainer.logged_metrics['auroc'].item()\n",
    "    results[i]['train_auprc'] = trainer.logged_metrics['auprc'].item()\n",
    "\n",
    "    \n",
    "    # Evaluate on the validation set\n",
    "    trainer.test(model, dataloaders=val_loader)\n",
    "    \n",
    "    results[i]['val_auroc'] = trainer.logged_metrics['auroc'].item()\n",
    "    results[i]['val_auprc'] = trainer.logged_metrics['auprc'].item()\n"
   ]
  },
  {
   "cell_type": "code",
   "execution_count": null,
   "id": "334be5ce",
   "metadata": {},
   "outputs": [],
   "source": []
  },
  {
   "cell_type": "markdown",
   "id": "08582766",
   "metadata": {},
   "source": [
    "## Investigate similarity of representations"
   ]
  },
  {
   "cell_type": "code",
   "execution_count": 14,
   "id": "6ea05ad7",
   "metadata": {},
   "outputs": [
    {
     "data": {
      "text/plain": [
       "20034"
      ]
     },
     "execution_count": 14,
     "metadata": {},
     "output_type": "execute_result"
    }
   ],
   "source": [
    "# Load model\n",
    "\n",
    "len(val_feats_ehr)\n",
    "# Process training features\n",
    "\n",
    "\n",
    "# Process validation features "
   ]
  },
  {
   "cell_type": "code",
   "execution_count": 31,
   "id": "d060ae83",
   "metadata": {},
   "outputs": [],
   "source": [
    "new_df = pd.DataFrame.from_dict(results_new, orient='index').reset_index().rename(columns={'index':'epoch'})"
   ]
  },
  {
   "cell_type": "code",
   "execution_count": 34,
   "id": "b75efacd",
   "metadata": {},
   "outputs": [
    {
     "data": {
      "text/plain": [
       "0.0"
      ]
     },
     "execution_count": 34,
     "metadata": {},
     "output_type": "execute_result"
    }
   ],
   "source": [
    "new_df.loc[new_df['val_auroc'].idxmax()].epoch"
   ]
  },
  {
   "cell_type": "code",
   "execution_count": 29,
   "id": "c4c69919",
   "metadata": {},
   "outputs": [],
   "source": [
    "results_new = {0: {'train_auroc': 0.6172091659164506,\n",
    "  'train_auprc': 0.3322308307432224,\n",
    "  'val_auroc': 0.6295275432409178,\n",
    "  'val_auprc': 0.34443971355092357},\n",
    "          1: {'train_auroc': 0.6172091659164506,\n",
    "  'train_auprc': 0.3322308307432224,\n",
    "  'val_auroc': 0.6295275432409178,\n",
    "  'val_auprc': 0.34443971355092357}\n",
    "          }"
   ]
  },
  {
   "cell_type": "code",
   "execution_count": 15,
   "id": "69db26be",
   "metadata": {},
   "outputs": [
    {
     "ename": "KeyError",
     "evalue": "1",
     "output_type": "error",
     "traceback": [
      "\u001b[0;31m---------------------------------------------------------------------------\u001b[0m",
      "\u001b[0;31mKeyError\u001b[0m                                  Traceback (most recent call last)",
      "Cell \u001b[0;32mIn [15], line 7\u001b[0m\n\u001b[1;32m      5\u001b[0m auprc_val \u001b[38;5;241m=\u001b[39m []\n\u001b[1;32m      6\u001b[0m \u001b[38;5;28;01mfor\u001b[39;00m i \u001b[38;5;129;01min\u001b[39;00m \u001b[38;5;28mrange\u001b[39m(\u001b[38;5;241m0\u001b[39m, max_epoch\u001b[38;5;241m+\u001b[39m\u001b[38;5;241m1\u001b[39m):\n\u001b[0;32m----> 7\u001b[0m     auroc_train\u001b[38;5;241m.\u001b[39mappend(\u001b[43mresults\u001b[49m\u001b[43m[\u001b[49m\u001b[43mi\u001b[49m\u001b[43m]\u001b[49m[\u001b[38;5;124m'\u001b[39m\u001b[38;5;124mtrain_auroc\u001b[39m\u001b[38;5;124m'\u001b[39m])\n\u001b[1;32m      8\u001b[0m     auprc_train\u001b[38;5;241m.\u001b[39mappend(results[i][\u001b[38;5;124m'\u001b[39m\u001b[38;5;124mtrain_auprc\u001b[39m\u001b[38;5;124m'\u001b[39m])\n\u001b[1;32m     10\u001b[0m     auroc_val\u001b[38;5;241m.\u001b[39mappend(results[i][\u001b[38;5;124m'\u001b[39m\u001b[38;5;124mval_auroc\u001b[39m\u001b[38;5;124m'\u001b[39m])\n",
      "\u001b[0;31mKeyError\u001b[0m: 1"
     ]
    }
   ],
   "source": [
    "auroc_train = []\n",
    "auprc_train = []\n",
    "\n",
    "auroc_val = []\n",
    "auprc_val = []\n",
    "for i in range(0, max_epoch+1):\n",
    "    auroc_train.append(results[i]['train_auroc'])\n",
    "    auprc_train.append(results[i]['train_auprc'])\n",
    "    \n",
    "    auroc_val.append(results[i]['val_auroc'])\n",
    "    auprc_val.append(results[i]['val_auprc'])\n",
    "\n"
   ]
  },
  {
   "cell_type": "code",
   "execution_count": 16,
   "id": "c1d47a4d",
   "metadata": {},
   "outputs": [
    {
     "name": "stdout",
     "output_type": "stream",
     "text": [
      "[0.7633600365945904]\n",
      "[0.6967495256009819]\n",
      "[0.4637982536518651]\n",
      "[0.3806363555232465]\n"
     ]
    }
   ],
   "source": [
    "print(auroc_train)\n",
    "print(auroc_val)\n",
    "\n",
    "print(auprc_train)\n",
    "print(auprc_val)"
   ]
  },
  {
   "cell_type": "code",
   "execution_count": 33,
   "id": "9597b3e4",
   "metadata": {},
   "outputs": [
    {
     "name": "stdout",
     "output_type": "stream",
     "text": [
      "0.7019721376550035\n",
      "0.38413612064747604\n"
     ]
    },
    {
     "data": {
      "text/plain": [
       "148"
      ]
     },
     "execution_count": 33,
     "metadata": {},
     "output_type": "execute_result"
    }
   ],
   "source": [
    "max_val_auroc = max(auroc_val) \n",
    "max_val_auprc = max(auprc_val) \n",
    "\n",
    "print(max_val_auroc)\n",
    "print(max_val_auprc)\n",
    "\n",
    "max_index = auroc_val.index(max_val_auroc)\n",
    "max_index"
   ]
  },
  {
   "cell_type": "code",
   "execution_count": 46,
   "id": "719a2eda",
   "metadata": {},
   "outputs": [
    {
     "name": "stdout",
     "output_type": "stream",
     "text": [
      "0.7019721376550035\n",
      "0.38405093433221926\n"
     ]
    }
   ],
   "source": [
    "print(auroc_val[148])\n",
    "print(auprc_val[148])"
   ]
  },
  {
   "cell_type": "code",
   "execution_count": 36,
   "id": "1e78762b",
   "metadata": {},
   "outputs": [
    {
     "data": {
      "image/png": "[encoded data removed]",
      "text/plain": [
       "<Figure size 640x480 with 1 Axes>"
      ]
     },
     "metadata": {},
     "output_type": "display_data"
    }
   ],
   "source": [
    "epochs = range(max_epoch+1)\n",
    "\n",
    "plt.plot(epochs, auroc_train, label='train_auroc')\n",
    "plt.plot(epochs, auroc_val, label='val_auroc')\n",
    "\n",
    "plt.title(\"Temperature=0.5\")\n",
    "plt.legend()\n",
    "plt.show()"
   ]
  },
  {
   "cell_type": "code",
   "execution_count": 37,
   "id": "5b127472",
   "metadata": {},
   "outputs": [
    {
     "data": {
      "image/png": "[encoded data removed]",
      "text/plain": [
       "<Figure size 640x480 with 1 Axes>"
      ]
     },
     "metadata": {},
     "output_type": "display_data"
    }
   ],
   "source": [
    "epochs = range(max_epoch+1)\n",
    "\n",
    "plt.plot(epochs, auprc_train, label='train_auprc')\n",
    "plt.plot(epochs, auprc_val, label='val_auprc')\n",
    "plt.title(\"Temperature=0.01\")\n",
    "plt.legend()\n",
    "plt.show()"
   ]
  },
  {
   "cell_type": "code",
   "execution_count": 36,
   "id": "f0dcbe9c",
   "metadata": {},
   "outputs": [
    {
     "data": {
      "text/plain": [
       "512"
      ]
     },
     "execution_count": 36,
     "metadata": {},
     "output_type": "execute_result"
    }
   ],
   "source": [
    "len(tr_feats_img[0])"
   ]
  },
  {
   "cell_type": "code",
   "execution_count": 1,
   "id": "151a6779",
   "metadata": {},
   "outputs": [],
   "source": [
    "temp = 'SIMCLR-1234_epoch_{epoch:02d}'"
   ]
  },
  {
   "cell_type": "code",
   "execution_count": 3,
   "id": "b9e8fad1",
   "metadata": {},
   "outputs": [
    {
     "data": {
      "text/plain": [
       "'SIMCLR-1234'"
      ]
     },
     "execution_count": 3,
     "metadata": {},
     "output_type": "execute_result"
    }
   ],
   "source": [
    "temp.split('_epoch')[0]"
   ]
  },
  {
   "cell_type": "code",
   "execution_count": 38,
   "id": "ff705add",
   "metadata": {},
   "outputs": [
    {
     "data": {
      "text/plain": [
       "(array([663., 825., 701., 597., 462., 423., 369., 294., 293., 276., 243.,\n",
       "        228., 212., 184., 200., 152., 150., 144., 131., 105., 120.,  98.,\n",
       "         92.,  99.,  75.,  64.,  63.,  62.,  51.,  46.,  46.,  28.,  36.,\n",
       "         31.,  26.,  19.,  15.,   6.,   8.,   3.,  11.,   7.,   9.,   2.,\n",
       "          3.,   5.,   0.,   0.,   2.,   1.]),\n",
       " array([0.        , 0.04481877, 0.08963755, 0.13445632, 0.17927509,\n",
       "        0.22409387, 0.26891264, 0.31373141, 0.35855019, 0.40336896,\n",
       "        0.44818773, 0.49300651, 0.53782528, 0.58264405, 0.62746283,\n",
       "        0.6722816 , 0.71710037, 0.76191915, 0.80673792, 0.85155669,\n",
       "        0.89637547, 0.94119424, 0.98601301, 1.03083179, 1.07565056,\n",
       "        1.12046933, 1.16528811, 1.21010688, 1.25492565, 1.29974442,\n",
       "        1.3445632 , 1.38938197, 1.43420074, 1.47901952, 1.52383829,\n",
       "        1.56865706, 1.61347584, 1.65829461, 1.70311338, 1.74793216,\n",
       "        1.79275093, 1.8375697 , 1.88238848, 1.92720725, 1.97202602,\n",
       "        2.0168448 , 2.06166357, 2.10648234, 2.15130112, 2.19611989,\n",
       "        2.24093866]),\n",
       " <BarContainer object of 50 artists>)"
      ]
     },
     "execution_count": 38,
     "metadata": {},
     "output_type": "execute_result"
    },
    {
     "data": {
      "image/png": "[encoded data removed]",
      "text/plain": [
       "<Figure size 640x480 with 1 Axes>"
      ]
     },
     "metadata": {},
     "output_type": "display_data"
    }
   ],
   "source": [
    "dist = []\n",
    "for s in tr_feats_img:\n",
    "    dist = dist + [s[0].sum().item()]\n",
    "plt.hist(dist, bins=50)"
   ]
  },
  {
   "cell_type": "code",
   "execution_count": 89,
   "id": "8b9a3394",
   "metadata": {},
   "outputs": [
    {
     "data": {
      "text/plain": [
       "tensor([ 0.0120,  0.0033,  0.0038,  0.0182, -0.0061, -0.0096, -0.0572, -0.0201,\n",
       "         0.0084,  0.0078,  0.0025,  0.0111,  0.0122, -0.0035, -0.0081,  0.0067,\n",
       "         0.0242, -0.0188,  0.0091,  0.0009, -0.0228, -0.0382, -0.0159,  0.0125,\n",
       "         0.0086, -0.0018,  0.0057, -0.0420,  0.0159, -0.0152,  0.0452,  0.0243,\n",
       "         0.0340,  0.0341, -0.0137,  0.0328, -0.0686, -0.0403,  0.0032,  0.0148,\n",
       "        -0.0203,  0.0258,  0.0032,  0.0356, -0.0256, -0.0498, -0.0154, -0.0262,\n",
       "         0.0171,  0.0228, -0.0264, -0.0038, -0.0293, -0.0583, -0.0180,  0.0051,\n",
       "         0.0280, -0.0170, -0.0567,  0.0096, -0.0386,  0.0196, -0.0393,  0.0430,\n",
       "        -0.0048,  0.0032, -0.0184,  0.0113, -0.0470,  0.0506,  0.0244,  0.0132,\n",
       "        -0.0058, -0.0156,  0.0178,  0.0127,  0.0021, -0.0091, -0.0160,  0.0441,\n",
       "         0.0370,  0.0262,  0.0281,  0.0472, -0.0484,  0.0014,  0.0052, -0.0011,\n",
       "        -0.0299, -0.0331, -0.0330, -0.0097,  0.0142,  0.0133,  0.0364,  0.0090,\n",
       "        -0.0073,  0.0334,  0.0160,  0.0565,  0.0303, -0.0440, -0.0115, -0.0003,\n",
       "         0.0040, -0.0310,  0.0300,  0.0333, -0.0043, -0.0057, -0.0584, -0.0394,\n",
       "        -0.0151,  0.0126,  0.0335, -0.0160,  0.0253,  0.0528,  0.0417, -0.0276,\n",
       "        -0.0377,  0.0343,  0.0228, -0.0196, -0.0158,  0.0326, -0.0017,  0.0040])"
      ]
     },
     "execution_count": 89,
     "metadata": {},
     "output_type": "execute_result"
    }
   ],
   "source": [
    "val_feats_ehr[0] # using EVAL "
   ]
  },
  {
   "cell_type": "code",
   "execution_count": 90,
   "id": "8e56e87d",
   "metadata": {},
   "outputs": [
    {
     "data": {
      "text/plain": [
       "tensor([ 2.1023e-01,  6.4751e-02, -1.0212e-02, -1.7099e-01, -7.5568e-02,\n",
       "        -1.6168e-01,  1.3464e-02, -9.7397e-02,  5.0114e-02, -2.3897e-01,\n",
       "        -6.4518e-02,  2.8434e-01,  7.6330e-02, -5.3734e-02,  6.7631e-02,\n",
       "        -6.4120e-02,  7.1521e-02, -2.4291e-02, -5.4795e-02,  1.5658e-01,\n",
       "         7.2187e-02,  2.0795e-02, -6.4179e-02,  3.4936e-01,  1.2700e-02,\n",
       "        -2.1385e-01,  8.6850e-02, -1.2226e-01,  1.3574e-02, -7.4290e-02,\n",
       "         2.7795e-02,  1.1540e-01,  2.2109e-01, -2.2681e-02, -1.5513e-01,\n",
       "         8.3396e-02, -1.6701e-02, -6.4827e-02,  1.0553e-01, -8.1279e-02,\n",
       "         1.9792e-01,  1.7879e-01,  3.4105e-02, -2.8273e-02,  1.0205e-01,\n",
       "         6.9246e-03, -1.2693e-01, -1.4577e-01, -2.2922e-01, -1.0756e-01,\n",
       "        -7.4675e-02,  1.1564e-01, -2.1089e-01, -1.4840e-01, -1.1101e-01,\n",
       "        -2.7666e-02,  2.5527e-01, -2.1277e-01,  1.4921e-01,  1.0328e-01,\n",
       "        -3.6980e-02,  1.1430e-01,  1.0152e-01,  4.4733e-01, -2.1519e-01,\n",
       "        -1.8265e-01, -6.6726e-02,  1.4062e-01, -2.0406e-01,  2.5800e-01,\n",
       "        -5.7020e-02,  1.8033e-01,  3.6742e-01, -9.7387e-02,  1.9102e-01,\n",
       "        -6.6570e-02,  7.3483e-02, -1.6103e-02,  2.2118e-01,  2.5483e-01,\n",
       "        -1.0634e-01, -5.3026e-02,  1.2190e-01,  1.1451e-01, -2.3050e-01,\n",
       "         1.0662e-02,  1.5406e-01, -9.2703e-02,  2.8437e-01,  2.8492e-01,\n",
       "        -4.4285e-02,  6.5349e-02,  7.4194e-02,  1.2721e-01,  7.0624e-05,\n",
       "         1.9258e-01, -5.2008e-02,  1.5904e-01,  1.3483e-01,  3.5172e-02,\n",
       "        -9.2320e-02,  3.0283e-02, -9.2691e-02, -6.8994e-02,  3.3929e-01,\n",
       "        -1.3895e-01,  2.9057e-01, -1.7265e-02, -5.0475e-03,  6.6876e-02,\n",
       "        -1.1319e-01, -2.1049e-01,  1.1323e-01,  8.2455e-02, -1.6710e-02,\n",
       "        -1.6919e-02,  2.2370e-01,  8.9065e-03,  2.8029e-01, -1.3680e-01,\n",
       "        -1.1638e-01,  7.1599e-02,  1.8616e-01,  4.3643e-02,  2.1626e-01,\n",
       "         1.9985e-01,  2.1193e-02,  5.6450e-02])"
      ]
     },
     "execution_count": 90,
     "metadata": {},
     "output_type": "execute_result"
    }
   ],
   "source": [
    "val_feats_img[0] #usign EVAL "
   ]
  },
  {
   "cell_type": "code",
   "execution_count": 96,
   "id": "23f42574",
   "metadata": {},
   "outputs": [
    {
     "data": {
      "text/plain": [
       "tensor([ 0.0120,  0.0033,  0.0038,  0.0182, -0.0061, -0.0096, -0.0572, -0.0201,\n",
       "         0.0084,  0.0078,  0.0025,  0.0111,  0.0122, -0.0035, -0.0081,  0.0067,\n",
       "         0.0242, -0.0188,  0.0091,  0.0009, -0.0228, -0.0382, -0.0159,  0.0125,\n",
       "         0.0086, -0.0018,  0.0057, -0.0420,  0.0159, -0.0152,  0.0452,  0.0243,\n",
       "         0.0340,  0.0341, -0.0137,  0.0328, -0.0686, -0.0403,  0.0032,  0.0148,\n",
       "        -0.0203,  0.0258,  0.0032,  0.0356, -0.0256, -0.0498, -0.0154, -0.0262,\n",
       "         0.0171,  0.0228, -0.0264, -0.0038, -0.0293, -0.0583, -0.0180,  0.0051,\n",
       "         0.0280, -0.0170, -0.0567,  0.0096, -0.0386,  0.0196, -0.0393,  0.0430,\n",
       "        -0.0048,  0.0032, -0.0184,  0.0113, -0.0470,  0.0506,  0.0244,  0.0132,\n",
       "        -0.0058, -0.0156,  0.0178,  0.0127,  0.0021, -0.0091, -0.0160,  0.0441,\n",
       "         0.0370,  0.0262,  0.0281,  0.0472, -0.0484,  0.0014,  0.0052, -0.0011,\n",
       "        -0.0299, -0.0331, -0.0330, -0.0097,  0.0142,  0.0133,  0.0364,  0.0090,\n",
       "        -0.0073,  0.0334,  0.0160,  0.0565,  0.0303, -0.0440, -0.0115, -0.0003,\n",
       "         0.0040, -0.0310,  0.0300,  0.0333, -0.0043, -0.0057, -0.0584, -0.0394,\n",
       "        -0.0151,  0.0126,  0.0335, -0.0160,  0.0253,  0.0528,  0.0417, -0.0276,\n",
       "        -0.0377,  0.0343,  0.0228, -0.0196, -0.0158,  0.0326, -0.0017,  0.0040])"
      ]
     },
     "execution_count": 96,
     "metadata": {},
     "output_type": "execute_result"
    }
   ],
   "source": [
    "val_feats_ehr[0] # using stored during training "
   ]
  },
  {
   "cell_type": "code",
   "execution_count": 97,
   "id": "09363f6b",
   "metadata": {},
   "outputs": [
    {
     "data": {
      "text/plain": [
       "tensor([ 2.1023e-01,  6.4751e-02, -1.0212e-02, -1.7099e-01, -7.5568e-02,\n",
       "        -1.6168e-01,  1.3464e-02, -9.7397e-02,  5.0114e-02, -2.3897e-01,\n",
       "        -6.4519e-02,  2.8434e-01,  7.6330e-02, -5.3734e-02,  6.7631e-02,\n",
       "        -6.4120e-02,  7.1521e-02, -2.4290e-02, -5.4794e-02,  1.5658e-01,\n",
       "         7.2187e-02,  2.0795e-02, -6.4179e-02,  3.4936e-01,  1.2700e-02,\n",
       "        -2.1385e-01,  8.6849e-02, -1.2226e-01,  1.3574e-02, -7.4290e-02,\n",
       "         2.7795e-02,  1.1540e-01,  2.2109e-01, -2.2681e-02, -1.5513e-01,\n",
       "         8.3396e-02, -1.6702e-02, -6.4827e-02,  1.0553e-01, -8.1279e-02,\n",
       "         1.9792e-01,  1.7879e-01,  3.4105e-02, -2.8273e-02,  1.0205e-01,\n",
       "         6.9244e-03, -1.2693e-01, -1.4577e-01, -2.2922e-01, -1.0756e-01,\n",
       "        -7.4674e-02,  1.1563e-01, -2.1089e-01, -1.4840e-01, -1.1101e-01,\n",
       "        -2.7666e-02,  2.5527e-01, -2.1277e-01,  1.4921e-01,  1.0328e-01,\n",
       "        -3.6980e-02,  1.1430e-01,  1.0152e-01,  4.4733e-01, -2.1519e-01,\n",
       "        -1.8265e-01, -6.6727e-02,  1.4062e-01, -2.0406e-01,  2.5800e-01,\n",
       "        -5.7019e-02,  1.8033e-01,  3.6742e-01, -9.7387e-02,  1.9102e-01,\n",
       "        -6.6569e-02,  7.3483e-02, -1.6103e-02,  2.2118e-01,  2.5483e-01,\n",
       "        -1.0634e-01, -5.3026e-02,  1.2190e-01,  1.1451e-01, -2.3050e-01,\n",
       "         1.0663e-02,  1.5406e-01, -9.2703e-02,  2.8437e-01,  2.8492e-01,\n",
       "        -4.4285e-02,  6.5349e-02,  7.4195e-02,  1.2721e-01,  7.0345e-05,\n",
       "         1.9258e-01, -5.2008e-02,  1.5904e-01,  1.3483e-01,  3.5172e-02,\n",
       "        -9.2319e-02,  3.0283e-02, -9.2692e-02, -6.8994e-02,  3.3929e-01,\n",
       "        -1.3895e-01,  2.9057e-01, -1.7265e-02, -5.0477e-03,  6.6875e-02,\n",
       "        -1.1319e-01, -2.1049e-01,  1.1323e-01,  8.2454e-02, -1.6710e-02,\n",
       "        -1.6919e-02,  2.2370e-01,  8.9066e-03,  2.8029e-01, -1.3680e-01,\n",
       "        -1.1638e-01,  7.1600e-02,  1.8616e-01,  4.3643e-02,  2.1626e-01,\n",
       "         1.9985e-01,  2.1193e-02,  5.6450e-02])"
      ]
     },
     "execution_count": 97,
     "metadata": {},
     "output_type": "execute_result"
    }
   ],
   "source": [
    "val_feats_img[0] #usign stored during training "
   ]
  },
  {
   "cell_type": "code",
   "execution_count": null,
   "id": "39df2e3b",
   "metadata": {},
   "outputs": [],
   "source": []
  },
  {
   "cell_type": "code",
   "execution_count": 105,
   "id": "2d5dcf33",
   "metadata": {},
   "outputs": [],
   "source": [
    "dummy = '/scratch/fs999/shamoutlab/Farah/contrastive-learning-results/checkpoints/mortality/models'"
   ]
  },
  {
   "cell_type": "code",
   "execution_count": 106,
   "id": "787bc53e",
   "metadata": {},
   "outputs": [
    {
     "data": {
      "text/plain": [
       "'/scratch/fs999/shamoutlab/Farah/contrastive-learning-results/checkpoints/phenotyping/models'"
      ]
     },
     "execution_count": 106,
     "metadata": {},
     "output_type": "execute_result"
    }
   ],
   "source": [
    "dummy.replace('mortality', 'phenotyping')"
   ]
  },
  {
   "cell_type": "code",
   "execution_count": 107,
   "id": "9a753d20",
   "metadata": {},
   "outputs": [
    {
     "data": {
      "text/plain": [
       "False"
      ]
     },
     "execution_count": 107,
     "metadata": {},
     "output_type": "execute_result"
    }
   ],
   "source": [
    "'in-hospital' == 'in hospital'"
   ]
  },
  {
   "cell_type": "code",
   "execution_count": 22,
   "id": "c5d9ce5b",
   "metadata": {},
   "outputs": [
    {
     "data": {
      "text/plain": [
       "0.7132"
      ]
     },
     "execution_count": 22,
     "metadata": {},
     "output_type": "execute_result"
    }
   ],
   "source": [
    "np.round(0.7131789161327377, 4)"
   ]
  },
  {
   "cell_type": "code",
   "execution_count": null,
   "id": "f2436886",
   "metadata": {},
   "outputs": [],
   "source": []
  }
 ],
 "metadata": {
  "kernelspec": {
   "display_name": "med_fuse",
   "language": "python",
   "name": "myenv"
  },
  "language_info": {
   "codemirror_mode": {
    "name": "ipython",
    "version": 3
   },
   "file_extension": ".py",
   "mimetype": "text/x-python",
   "name": "python",
   "nbconvert_exporter": "python",
   "pygments_lexer": "ipython3",
   "version": "3.9.12"
  }
 },
 "nbformat": 4,
 "nbformat_minor": 5
}
